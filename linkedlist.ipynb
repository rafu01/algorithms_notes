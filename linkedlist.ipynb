{
 "cells": [
  {
   "cell_type": "markdown",
   "metadata": {},
   "source": [
    "create a linkedlist from list"
   ]
  },
  {
   "cell_type": "code",
   "execution_count": 1,
   "metadata": {},
   "outputs": [
    {
     "name": "stdout",
     "output_type": "stream",
     "text": [
      "1\n",
      "4\n",
      "5\n",
      "7\n",
      "8\n",
      "\n"
     ]
    }
   ],
   "source": [
    "class Node:\n",
    "    def __init__(self, value=None, next=None):\n",
    "        self.value = value\n",
    "        self.next = next\n",
    "    def __str__(self):\n",
    "        temp=self\n",
    "        while(temp!=None):\n",
    "            print(temp.value)\n",
    "            temp = temp.next\n",
    "        return \"\"\n",
    "\n",
    "\n",
    "my_list = [1,4,5,7,8]\n",
    "\n",
    "head = Node(my_list[0], None)\n",
    "temp = head\n",
    "for i in range(1, len(my_list)):\n",
    "    temp.next = Node(my_list[i],None)\n",
    "    temp = temp.next\n",
    "\n",
    "print(head)"
   ]
  },
  {
   "cell_type": "markdown",
   "metadata": {},
   "source": [
    "Reverse a link list"
   ]
  },
  {
   "cell_type": "code",
   "execution_count": 2,
   "metadata": {},
   "outputs": [
    {
     "name": "stdout",
     "output_type": "stream",
     "text": [
      "8\n",
      "7\n",
      "5\n",
      "4\n",
      "1\n",
      "\n"
     ]
    }
   ],
   "source": [
    "\n",
    "prev = None\n",
    "curr = head\n",
    "nxt = None\n",
    "\n",
    "while(curr!=None):\n",
    "    nxt = curr.next\n",
    "    curr.next = prev\n",
    "    prev = curr\n",
    "    curr = nxt\n",
    "print(prev)"
   ]
  },
  {
   "cell_type": "markdown",
   "metadata": {},
   "source": [
    "Doubly linked list"
   ]
  },
  {
   "cell_type": "code",
   "execution_count": 4,
   "metadata": {},
   "outputs": [
    {
     "name": "stdout",
     "output_type": "stream",
     "text": [
      "1 2\n",
      "1 2 3\n",
      "2 3 4\n",
      "3 4 5\n",
      "4 5 6\n",
      "5 6\n",
      "\n"
     ]
    }
   ],
   "source": [
    "class Doubly:\n",
    "    def __init__(self, value=None,prev=None, next =None):\n",
    "        self.value = value\n",
    "        self.prev = prev\n",
    "        self.next = next\n",
    "    def __str__(self):\n",
    "        temp = self\n",
    "        while(temp!=None):\n",
    "            if(temp.prev == None):\n",
    "                print(temp.value, temp.next.value)\n",
    "            elif(temp.next == None):\n",
    "                print(temp.prev.value, temp.value)\n",
    "            else:\n",
    "                print(temp.prev.value, temp.value, temp.next.value)\n",
    "            temp = temp.next\n",
    "        return \"\"\n",
    "\n",
    "\n",
    "my_list = [1,2,3,4,5,6]\n",
    "\n",
    "head = Doubly(my_list[0],None,None)\n",
    "temp = head\n",
    "for i in range(1, len(my_list)):\n",
    "    # print(temp, end=\" \")\n",
    "    temp.next = Doubly(my_list[i], temp, None)\n",
    "    temp = temp.next\n",
    "    # print(temp.prev.value)\n",
    "print(head)"
   ]
  },
  {
   "cell_type": "markdown",
   "metadata": {},
   "source": [
    "insert into doubly"
   ]
  },
  {
   "cell_type": "code",
   "execution_count": 5,
   "metadata": {},
   "outputs": [
    {
     "name": "stdout",
     "output_type": "stream",
     "text": [
      "1 2\n",
      "1 2 3\n",
      "2 3 9\n",
      "3 9 4\n",
      "9 4 5\n",
      "4 5 6\n",
      "5 6\n",
      "\n"
     ]
    }
   ],
   "source": [
    "\n",
    "def insert_into(index, temp, size, new_value):\n",
    "    if index==0 :\n",
    "        node = Doubly(new_value, None, temp)\n",
    "        temp.prev = node\n",
    "    elif index==size-1:\n",
    "        while(temp.next!=None):\n",
    "            temp = temp.next\n",
    "        node = Doubly(new_value, temp, None)\n",
    "        temp.next = node\n",
    "    else:\n",
    "        count = 0\n",
    "        while(count!=index-1):\n",
    "            count+=1\n",
    "            temp = temp.next\n",
    "        nxt = temp.next\n",
    "        node = Doubly(new_value, temp, temp.next)\n",
    "        nxt.prev = node\n",
    "        temp.next = node\n",
    "\n",
    "tm = head\n",
    "insert_into(3, tm, 6, 9)\n",
    "\n",
    "print(head)"
   ]
  }
 ],
 "metadata": {
  "kernelspec": {
   "display_name": "Python 3.10.2 64-bit",
   "language": "python",
   "name": "python3"
  },
  "language_info": {
   "codemirror_mode": {
    "name": "ipython",
    "version": 3
   },
   "file_extension": ".py",
   "mimetype": "text/x-python",
   "name": "python",
   "nbconvert_exporter": "python",
   "pygments_lexer": "ipython3",
   "version": "3.10.2"
  },
  "orig_nbformat": 4,
  "vscode": {
   "interpreter": {
    "hash": "369f2c481f4da34e4445cda3fffd2e751bd1c4d706f27375911949ba6bb62e1c"
   }
  }
 },
 "nbformat": 4,
 "nbformat_minor": 2
}
