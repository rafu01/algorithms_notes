{
 "cells": [
  {
   "cell_type": "markdown",
   "metadata": {},
   "source": [
    "1. think in terms of index\n",
    "2. perform everything possible using recursion\n",
    "3. get sum, min/max or count\n",
    "4. turn into memoization using dp array\n",
    "5. tabulization using replace recursion with loop\n",
    "6. memory optimization. use prev1, prev2 variable and replace dp array\n",
    "7. recursive dp is always top to bottom. start from n and goes to 0\n",
    "8. tabulization dp is alwasy bottom to top. start from 0 and goes to n"
   ]
  },
  {
   "cell_type": "markdown",
   "metadata": {},
   "source": [
    "Example 1: fibonacci"
   ]
  },
  {
   "cell_type": "markdown",
   "metadata": {},
   "source": [
    "recursive dp"
   ]
  },
  {
   "cell_type": "code",
   "execution_count": null,
   "metadata": {},
   "outputs": [],
   "source": [
    "def fibonacci(i):\n",
    "    if(i<=1):\n",
    "        return i\n",
    "    if(dp[i]==-1):\n",
    "        return dp[i]\n",
    "    left = fibonacci(i-1)\n",
    "    right = fibonacci(i-2)\n",
    "    dp[i] = left+right\n",
    "    return dp[i]\n",
    "n = 4\n",
    "dp = [-1]*(n+1)\n",
    "dp(n)"
   ]
  },
  {
   "cell_type": "markdown",
   "metadata": {},
   "source": [
    "tabulization"
   ]
  },
  {
   "cell_type": "code",
   "execution_count": 1,
   "metadata": {},
   "outputs": [
    {
     "data": {
      "text/plain": [
       "3"
      ]
     },
     "execution_count": 1,
     "metadata": {},
     "output_type": "execute_result"
    }
   ],
   "source": [
    "def fibonacci(n):\n",
    "    for i in range(2,n+1):\n",
    "        dp[i] = dp[i-1]+dp[i-2]\n",
    "    return dp[n]\n",
    "\n",
    "n = 4\n",
    "dp = [-1]*(n+1)\n",
    "dp[0] = 0\n",
    "dp[1] = 1\n",
    "fibonacci(n)"
   ]
  },
  {
   "cell_type": "markdown",
   "metadata": {},
   "source": [
    "memory optimization"
   ]
  },
  {
   "cell_type": "code",
   "execution_count": null,
   "metadata": {},
   "outputs": [
    {
     "data": {
      "text/plain": [
       "3"
      ]
     },
     "execution_count": 5,
     "metadata": {},
     "output_type": "execute_result"
    }
   ],
   "source": [
    "\n",
    "def fibonacci(n):\n",
    "    prev2 = 0\n",
    "    prev1 = 1\n",
    "    for i in range(2, n+1):\n",
    "        curr = prev1+prev2\n",
    "        prev2 = prev1\n",
    "        prev1 = curr\n",
    "    return prev1\n",
    "fibonacci(4)"
   ]
  },
  {
   "cell_type": "markdown",
   "metadata": {},
   "source": [
    "Example 2: counting dp"
   ]
  },
  {
   "cell_type": "code",
   "execution_count": null,
   "metadata": {},
   "outputs": [],
   "source": [
    "#take one or two step and how many ways to reach the top\n",
    "def countdp(i, ls):\n",
    "    if(i<=1):\n",
    "        return 1\n",
    "    if(dp[i]!=-1):\n",
    "        return dp[i]\n",
    "    left = countdp(i-1)\n",
    "    right = countdp(i-2)\n",
    "    dp[i] = left+right\n",
    "    return dp[i]\n",
    "\n",
    "ls = [1,1,0,1,2,1]\n",
    "countdp(len(ls)-1, ls)\n",
    "#same as fibonacci"
   ]
  },
  {
   "cell_type": "markdown",
   "metadata": {},
   "source": [
    "Minimum DP"
   ]
  },
  {
   "cell_type": "code",
   "execution_count": 1,
   "metadata": {},
   "outputs": [],
   "source": [
    "#a frog wants to jump from 0 to n-1 with minimum energy, in each step it costs abs(a[i] - a[i-1])\n",
    "#to jump from i to i-1 position. It can jump maximum of 2 steps at a time\n",
    "def mindp(i, ls):\n",
    "    if(i<=1):\n",
    "        return 0\n",
    "    if(dp[i]==-1):\n",
    "        return dp[i]\n",
    "    left = abs(ls[i]-ls[i-1])+mindp(i-1, ls)\n",
    "    right = abs(ls[i]-ls[i-2])+mindp(i-2,ls)\n",
    "    dp[i] = min(left, right)\n",
    "    return dp[i]\n",
    "\n"
   ]
  },
  {
   "cell_type": "markdown",
   "metadata": {},
   "source": [
    "tabulization"
   ]
  },
  {
   "cell_type": "code",
   "execution_count": 7,
   "metadata": {},
   "outputs": [
    {
     "data": {
      "text/plain": [
       "40"
      ]
     },
     "execution_count": 7,
     "metadata": {},
     "output_type": "execute_result"
    }
   ],
   "source": [
    "\n",
    "def mindp(ls):\n",
    "    dp = [0]*len(ls)\n",
    "    dp[0] = 0\n",
    "    dp[1] = 0\n",
    "    for i in range(2,len(ls)):\n",
    "        dp[i] = min(abs(ls[i]-ls[i-1])+dp[i-1],abs(ls[i]-ls[i-2])+dp[i-2])\n",
    "    return dp[len(ls)-1]\n",
    "ls = [30,10,60,10,60,50]\n",
    "mindp(ls)"
   ]
  },
  {
   "cell_type": "markdown",
   "metadata": {},
   "source": [
    "space optimization"
   ]
  },
  {
   "cell_type": "code",
   "execution_count": 3,
   "metadata": {},
   "outputs": [
    {
     "data": {
      "text/plain": [
       "40"
      ]
     },
     "execution_count": 3,
     "metadata": {},
     "output_type": "execute_result"
    }
   ],
   "source": [
    "\n",
    "\n",
    "def mindp(ls):\n",
    "    prev1 = 0\n",
    "    prev2 = 0\n",
    "    for i in range(2, len(ls)):\n",
    "        curr = min(abs(ls[i]-ls[i-1])+prev1,abs(ls[i]-ls[i-2])+prev2)\n",
    "        prev2 = prev1\n",
    "        prev1 = curr\n",
    "    return prev1\n",
    "ls = [30,10,60,10,60,50]\n",
    "mindp(ls)"
   ]
  },
  {
   "cell_type": "markdown",
   "metadata": {},
   "source": [
    "frog jump with k steps"
   ]
  },
  {
   "cell_type": "code",
   "execution_count": null,
   "metadata": {},
   "outputs": [],
   "source": [
    "def jumpk(i, ls, k):\n",
    "    if i==0:\n",
    "        return 0\n",
    "    for j in range(k):\n",
    "        if(j>=i):\n",
    "            step = min(abs(ls[i]-ls[i-j]),jumpk(i-j, ls, k))\n",
    "            minStep = min(step, minStep)\n",
    "    return minStep"
   ]
  },
  {
   "cell_type": "markdown",
   "metadata": {},
   "source": [
    "maximum sum of array but cannot take adjancent values"
   ]
  },
  {
   "cell_type": "code",
   "execution_count": null,
   "metadata": {},
   "outputs": [],
   "source": [
    "def adjmax(i,ls):\n",
    "    if(i==0):\n",
    "        return ls[i]\n",
    "    if(i<0):\n",
    "        return 0\n",
    "    if(dp[i]!=-1):\n",
    "        return dp[i]\n",
    "    pick = ls[i] + adjmax(i-2,ls)\n",
    "    nonpick = adjmax(i-1,ls)\n",
    "    dp[i] = max(pick,nonpick)\n",
    "    return dp[i]"
   ]
  },
  {
   "cell_type": "code",
   "execution_count": null,
   "metadata": {},
   "outputs": [],
   "source": [
    "def adjmax(n, ls, dp):\n",
    "    dp[0] = ls[0]\n",
    "    dp[1] = max(ls[1], ls[0])\n",
    "    for i in range(2, len(ls)):\n",
    "        dp[i] = max(ls[i]+dp[i-2], dp[i-1])\n",
    "    return dp[n]\n",
    "    "
   ]
  },
  {
   "cell_type": "code",
   "execution_count": null,
   "metadata": {},
   "outputs": [],
   "source": [
    "def adjmax(n, ls, dp):\n",
    "    prv2 = ls[0]\n",
    "    prv1 = max(ls[1], ls[0])\n",
    "    for i in range(2, len(ls)):\n",
    "        curr = max(ls[i]+prv2, prv1)\n",
    "        prv2 = prv1\n",
    "        prv1 = curr\n",
    "    return prv1"
   ]
  }
 ],
 "metadata": {
  "kernelspec": {
   "display_name": "Python 3.10.2 64-bit",
   "language": "python",
   "name": "python3"
  },
  "language_info": {
   "codemirror_mode": {
    "name": "ipython",
    "version": 3
   },
   "file_extension": ".py",
   "mimetype": "text/x-python",
   "name": "python",
   "nbconvert_exporter": "python",
   "pygments_lexer": "ipython3",
   "version": "3.10.2"
  },
  "orig_nbformat": 4,
  "vscode": {
   "interpreter": {
    "hash": "369f2c481f4da34e4445cda3fffd2e751bd1c4d706f27375911949ba6bb62e1c"
   }
  }
 },
 "nbformat": 4,
 "nbformat_minor": 2
}
