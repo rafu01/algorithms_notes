{
 "cells": [
  {
   "cell_type": "markdown",
   "metadata": {},
   "source": [
    "Reverse a list using Recursion"
   ]
  },
  {
   "cell_type": "code",
   "execution_count": 1,
   "metadata": {},
   "outputs": [],
   "source": [
    "ls = [1,2,3,4,5,6]"
   ]
  },
  {
   "cell_type": "code",
   "execution_count": 12,
   "metadata": {},
   "outputs": [],
   "source": [
    "def reverse(i,j,ls):\n",
    "    if i>j:\n",
    "        return\n",
    "    ls[i], ls[j] = ls[j], ls[i]\n",
    "    reverse(i+1, j-1, ls)\n",
    "def reverse2(i, ls):\n",
    "    if i>len(ls)//2:\n",
    "        return\n",
    "    ls[i], ls[len(ls)-i-1] = ls[len(ls)-i-1], ls[i]\n",
    "    reverse2(i+1, ls)"
   ]
  },
  {
   "cell_type": "code",
   "execution_count": 11,
   "metadata": {},
   "outputs": [
    {
     "data": {
      "text/plain": [
       "[6, 5, 4, 3, 2, 1]"
      ]
     },
     "execution_count": 11,
     "metadata": {},
     "output_type": "execute_result"
    }
   ],
   "source": [
    "reverse2(0, ls)\n",
    "ls"
   ]
  },
  {
   "cell_type": "markdown",
   "metadata": {},
   "source": [
    "Check palindrome using recursion"
   ]
  },
  {
   "cell_type": "code",
   "execution_count": 13,
   "metadata": {},
   "outputs": [],
   "source": [
    "def palindrome(i,j, string):\n",
    "    if(i>=j):\n",
    "        return True\n",
    "    if string[i]==string[j]:\n",
    "        return palindrome(i+1, j-1, string)\n",
    "    else: return False"
   ]
  },
  {
   "cell_type": "code",
   "execution_count": 18,
   "metadata": {},
   "outputs": [
    {
     "data": {
      "text/plain": [
       "True"
      ]
     },
     "execution_count": 18,
     "metadata": {},
     "output_type": "execute_result"
    }
   ],
   "source": [
    "string = \"aaaa\"\n",
    "j = len(string)-1\n",
    "palindrome(0,j,string)"
   ]
  },
  {
   "cell_type": "markdown",
   "metadata": {},
   "source": [
    "Subsequence"
   ]
  },
  {
   "cell_type": "code",
   "execution_count": 19,
   "metadata": {},
   "outputs": [],
   "source": [
    "def subsequence(i,string, container):\n",
    "    if(i>=len(string)):\n",
    "        print(container)\n",
    "        return\n",
    "    container = container+string[i]\n",
    "    subsequence(i+1, string, container)\n",
    "    container = container[:-1]\n",
    "    subsequence(i+1, string, container)"
   ]
  },
  {
   "cell_type": "code",
   "execution_count": 21,
   "metadata": {},
   "outputs": [
    {
     "name": "stdout",
     "output_type": "stream",
     "text": [
      "125\n",
      "12\n",
      "15\n",
      "1\n",
      "25\n",
      "2\n",
      "5\n",
      "\n"
     ]
    }
   ],
   "source": [
    "string = \"125\"\n",
    "container = \"\"\n",
    "subsequence(0, string, container)"
   ]
  }
 ],
 "metadata": {
  "kernelspec": {
   "display_name": "Python 3.9.7 ('base')",
   "language": "python",
   "name": "python3"
  },
  "language_info": {
   "codemirror_mode": {
    "name": "ipython",
    "version": 3
   },
   "file_extension": ".py",
   "mimetype": "text/x-python",
   "name": "python",
   "nbconvert_exporter": "python",
   "pygments_lexer": "ipython3",
   "version": "3.9.7"
  },
  "orig_nbformat": 4,
  "vscode": {
   "interpreter": {
    "hash": "2b71a995e46246615180a67444ee118af271164f31761764b1871064cbf2666b"
   }
  }
 },
 "nbformat": 4,
 "nbformat_minor": 2
}
