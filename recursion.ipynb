{
 "cells": [
  {
   "cell_type": "markdown",
   "metadata": {},
   "source": [
    "Reverse a list using Recursion"
   ]
  },
  {
   "cell_type": "code",
   "execution_count": 1,
   "metadata": {},
   "outputs": [],
   "source": [
    "ls = [1,2,3,4,5,6]"
   ]
  },
  {
   "cell_type": "code",
   "execution_count": 12,
   "metadata": {},
   "outputs": [],
   "source": [
    "def reverse(i,j,ls):\n",
    "    if i>j:\n",
    "        return\n",
    "    ls[i], ls[j] = ls[j], ls[i]\n",
    "    reverse(i+1, j-1, ls)\n",
    "def reverse2(i, ls):\n",
    "    if i>len(ls)//2:\n",
    "        return\n",
    "    ls[i], ls[len(ls)-i-1] = ls[len(ls)-i-1], ls[i]\n",
    "    reverse2(i+1, ls)"
   ]
  },
  {
   "cell_type": "code",
   "execution_count": 11,
   "metadata": {},
   "outputs": [
    {
     "data": {
      "text/plain": [
       "[6, 5, 4, 3, 2, 1]"
      ]
     },
     "execution_count": 11,
     "metadata": {},
     "output_type": "execute_result"
    }
   ],
   "source": [
    "reverse2(0, ls)\n",
    "ls"
   ]
  },
  {
   "cell_type": "markdown",
   "metadata": {},
   "source": [
    "Check palindrome using recursion"
   ]
  },
  {
   "cell_type": "code",
   "execution_count": 13,
   "metadata": {},
   "outputs": [],
   "source": [
    "def palindrome(i,j, string):\n",
    "    if(i>=j):\n",
    "        return True\n",
    "    if string[i]==string[j]:\n",
    "        return palindrome(i+1, j-1, string)\n",
    "    else: return False"
   ]
  },
  {
   "cell_type": "code",
   "execution_count": 18,
   "metadata": {},
   "outputs": [
    {
     "data": {
      "text/plain": [
       "True"
      ]
     },
     "execution_count": 18,
     "metadata": {},
     "output_type": "execute_result"
    }
   ],
   "source": [
    "string = \"aaaa\"\n",
    "j = len(string)-1\n",
    "palindrome(0,j,string)"
   ]
  },
  {
   "cell_type": "markdown",
   "metadata": {},
   "source": [
    "Subsequence"
   ]
  },
  {
   "cell_type": "code",
   "execution_count": 19,
   "metadata": {},
   "outputs": [],
   "source": [
    "def subsequence(i,string, container):\n",
    "    if(i>=len(string)):\n",
    "        print(container)\n",
    "        return\n",
    "    container = container+string[i]\n",
    "    subsequence(i+1, string, container)\n",
    "    container = container[:-1]\n",
    "    subsequence(i+1, string, container)"
   ]
  },
  {
   "cell_type": "code",
   "execution_count": 21,
   "metadata": {},
   "outputs": [
    {
     "name": "stdout",
     "output_type": "stream",
     "text": [
      "125\n",
      "12\n",
      "15\n",
      "1\n",
      "25\n",
      "2\n",
      "5\n",
      "\n"
     ]
    }
   ],
   "source": [
    "string = \"125\"\n",
    "container = \"\"\n",
    "subsequence(0, string, container)"
   ]
  },
  {
   "cell_type": "markdown",
   "metadata": {},
   "source": [
    "subsequence equals to sum"
   ]
  },
  {
   "cell_type": "code",
   "execution_count": 7,
   "metadata": {},
   "outputs": [
    {
     "name": "stdout",
     "output_type": "stream",
     "text": [
      "1 1 \n",
      "2 \n"
     ]
    }
   ],
   "source": [
    "def subsequence_sum(i, curr_sum, target, container, ls):\n",
    "    if(i>=len(ls)):\n",
    "        if curr_sum==target:\n",
    "            for i in container:\n",
    "                print(i, end=\" \")\n",
    "            print()\n",
    "        return\n",
    "    container.append(ls[i])\n",
    "    subsequence_sum(i+1, curr_sum+ls[i], target, container, ls)\n",
    "    container.pop(-1)\n",
    "    subsequence_sum(i+1, curr_sum, target, container, ls)\n",
    "ls = [1,2,1]\n",
    "target = 2\n",
    "subsequence_sum(0, 0, target, [], ls)"
   ]
  },
  {
   "cell_type": "markdown",
   "metadata": {},
   "source": [
    "print only one subsequence equals to sum. To print only one pattern. 1. Return true, false from base case 2. check the recursive call and return false at the end."
   ]
  },
  {
   "cell_type": "code",
   "execution_count": 8,
   "metadata": {},
   "outputs": [
    {
     "name": "stdout",
     "output_type": "stream",
     "text": [
      "1 1 \n"
     ]
    },
    {
     "data": {
      "text/plain": [
       "True"
      ]
     },
     "execution_count": 8,
     "metadata": {},
     "output_type": "execute_result"
    }
   ],
   "source": [
    "def subsequence_sum(i, curr_sum, target, container, ls):\n",
    "    if(i>=len(ls)):\n",
    "        if curr_sum==target:\n",
    "            for i in container:\n",
    "                print(i, end=\" \")\n",
    "            print()\n",
    "            return True\n",
    "        return False\n",
    "    container.append(ls[i])\n",
    "    if subsequence_sum(i+1, curr_sum+ls[i], target, container, ls)==True:\n",
    "        return True\n",
    "    container.pop(-1)\n",
    "    if subsequence_sum(i+1, curr_sum, target, container, ls)== True:\n",
    "        return True\n",
    "    return False\n",
    "ls = [1,2,1]\n",
    "target = 2\n",
    "subsequence_sum(0, 0, target, [], ls)"
   ]
  },
  {
   "cell_type": "markdown",
   "metadata": {},
   "source": [
    "Count the number of subsequence equals to sum"
   ]
  },
  {
   "cell_type": "code",
   "execution_count": 11,
   "metadata": {},
   "outputs": [
    {
     "data": {
      "text/plain": [
       "2"
      ]
     },
     "execution_count": 11,
     "metadata": {},
     "output_type": "execute_result"
    }
   ],
   "source": [
    "def subsequence_sum(i, curr_sum, target, ls):\n",
    "    if(i>=len(ls)):\n",
    "        if(target == curr_sum):\n",
    "            return 1\n",
    "        return 0\n",
    "    left = subsequence_sum(i+1, curr_sum+ls[i], target, ls)\n",
    "    right = subsequence_sum(i+1, curr_sum, target, ls)\n",
    "    return left+right\n",
    "ls = [1,2,1]\n",
    "target = 2\n",
    "subsequence_sum(0, 0, target, ls)"
   ]
  },
  {
   "cell_type": "markdown",
   "metadata": {},
   "source": [
    "Subsequence equals to sum where you can pick a number any number of time "
   ]
  },
  {
   "cell_type": "code",
   "execution_count": 5,
   "metadata": {},
   "outputs": [
    {
     "name": "stdout",
     "output_type": "stream",
     "text": [
      "[2, 2, 3]\n",
      "[7]\n"
     ]
    }
   ],
   "source": [
    "\n",
    "class Sub:\n",
    "    ans = []\n",
    "    def subseq(self, i, target, container,ls):\n",
    "        if i>=len(ls):\n",
    "            if target == 0:\n",
    "                self.ans.append(container)\n",
    "                print(container)\n",
    "            return\n",
    "        if target>0:\n",
    "            container.append(ls[i])\n",
    "            self.subseq(i, target-ls[i], container, ls)\n",
    "            container.pop(-1)\n",
    "        self.subseq(i+1, target, container, ls)\n",
    "target = 7\n",
    "ls = [2,7,3]\n",
    "sub = Sub()\n",
    "sub.subseq(0, target, [], ls)\n",
    "# print(sub.ans)"
   ]
  },
  {
   "cell_type": "markdown",
   "metadata": {},
   "source": [
    "find all unique combinations eqaul to target in lexicographical order"
   ]
  },
  {
   "cell_type": "code",
   "execution_count": 15,
   "metadata": {},
   "outputs": [
    {
     "name": "stdout",
     "output_type": "stream",
     "text": [
      "[2, 5]\n",
      "[7]\n"
     ]
    }
   ],
   "source": [
    "ans = []\n",
    "def subseq(ind, target, container,ls):\n",
    "    if target == 0:\n",
    "        ans.append(container)\n",
    "        print(container)\n",
    "        return\n",
    "    for i in range(ind,len(ls)):\n",
    "        if(i>ind and ls[i]==ls[i-1]):\n",
    "            continue\n",
    "        if(ls[i]>target):\n",
    "            break\n",
    "        container.append(ls[i])\n",
    "        subseq(i+1, target-ls[i], container, ls)\n",
    "        container.pop(-1)\n",
    "\n",
    "target = 7\n",
    "ls = [5,7,2]\n",
    "ls.sort()\n",
    "subseq(0, target, [], ls)"
   ]
  },
  {
   "cell_type": "markdown",
   "metadata": {},
   "source": [
    "find all subset sums"
   ]
  },
  {
   "cell_type": "code",
   "execution_count": null,
   "metadata": {},
   "outputs": [],
   "source": [
    "def subset_sum(i,total, container, ls):\n",
    "    if i==len(ls):\n",
    "        container.append(total)\n",
    "        return\n",
    "    subset_sum(i+1, total+ls[i], container, ls)\n",
    "    subset_sum(i+1, total, container, ls)\n"
   ]
  },
  {
   "cell_type": "markdown",
   "metadata": {},
   "source": [
    "subset sum without duplicate"
   ]
  },
  {
   "cell_type": "code",
   "execution_count": 3,
   "metadata": {},
   "outputs": [
    {
     "name": "stdout",
     "output_type": "stream",
     "text": [
      "[]\n",
      "[1]\n",
      "[1, 1]\n",
      "[1, 1, 2]\n",
      "[1, 1, 2, 2]\n",
      "[1, 1, 2, 2, 3]\n",
      "[1, 1, 2, 2, 3, 3]\n",
      "[1, 1, 2, 3]\n",
      "[1, 1, 2, 3, 3]\n",
      "[1, 1, 3]\n",
      "[1, 1, 3, 3]\n",
      "[1, 2]\n",
      "[1, 2, 2]\n",
      "[1, 2, 2, 3]\n",
      "[1, 2, 2, 3, 3]\n",
      "[1, 2, 3]\n",
      "[1, 2, 3, 3]\n",
      "[1, 3]\n",
      "[1, 3, 3]\n",
      "[2]\n",
      "[2, 2]\n",
      "[2, 2, 3]\n",
      "[2, 2, 3, 3]\n",
      "[2, 3]\n",
      "[2, 3, 3]\n",
      "[3]\n",
      "[3, 3]\n"
     ]
    }
   ],
   "source": [
    "def subset_sum(ind, container, ls):\n",
    "    print(container)\n",
    "    for i in range(ind,len(ls)):\n",
    "        if i>ind and ls[i]==ls[i-1]:\n",
    "            continue \n",
    "        container.append(ls[i])\n",
    "        subset_sum(i+1,container, ls)\n",
    "        container.pop(-1)\n",
    "ls = [2,3,3,2,1,1]\n",
    "ls.sort()\n",
    "subset_sum(0, [], ls)"
   ]
  },
  {
   "cell_type": "code",
   "execution_count": 15,
   "metadata": {},
   "outputs": [
    {
     "name": "stdout",
     "output_type": "stream",
     "text": [
      "((((\n",
      "((()\n",
      "(()(\n",
      "(())\n",
      "()((\n",
      "()()\n",
      "())(\n",
      "()))\n",
      ")(((\n",
      ")(()\n",
      ")()(\n",
      ")())\n",
      "))((\n",
      "))()\n",
      ")))(\n",
      "))))\n"
     ]
    }
   ],
   "source": [
    "def parenthesis(i, n, container):\n",
    "    if i>=2*n:\n",
    "        print(\"\".join(container))\n",
    "        return\n",
    "    container.append('(')\n",
    "    parenthesis(i+1, n, container)\n",
    "    container.pop(-1)\n",
    "    container.append(')')\n",
    "    parenthesis(i+1, n, container)\n",
    "    container.pop(-1)\n",
    "\n",
    "parenthesis(0, 2, [])"
   ]
  },
  {
   "cell_type": "markdown",
   "metadata": {},
   "source": [
    "all possible permutation"
   ]
  },
  {
   "cell_type": "code",
   "execution_count": 3,
   "metadata": {},
   "outputs": [
    {
     "name": "stdout",
     "output_type": "stream",
     "text": [
      "['0', '0', '0', '0']\n",
      "['1', '0', '0', '0']\n",
      "['0', '1', '0', '0']\n",
      "['1', '1', '0', '0']\n",
      "['0', '0', '1', '0']\n",
      "['1', '0', '1', '0']\n",
      "['0', '1', '1', '0']\n",
      "['1', '1', '1', '0']\n",
      "['0', '0', '0', '1']\n",
      "['1', '0', '0', '1']\n",
      "['0', '1', '0', '1']\n",
      "['1', '1', '0', '1']\n",
      "['0', '0', '1', '1']\n",
      "['1', '0', '1', '1']\n",
      "['0', '1', '1', '1']\n",
      "['1', '1', '1', '1']\n"
     ]
    }
   ],
   "source": [
    "def permutation(i):\n",
    "    if i==0:\n",
    "        print(container[1:])\n",
    "        return\n",
    "    container[i] = '0'\n",
    "    permutation(i-1)\n",
    "    container[i] = '1'\n",
    "    permutation(i-1)\n",
    "\n",
    "container = [0]*5\n",
    "permutation(4)\n"
   ]
  },
  {
   "cell_type": "code",
   "execution_count": null,
   "metadata": {},
   "outputs": [],
   "source": []
  }
 ],
 "metadata": {
  "kernelspec": {
   "display_name": "Python 3.10.2 64-bit",
   "language": "python",
   "name": "python3"
  },
  "language_info": {
   "codemirror_mode": {
    "name": "ipython",
    "version": 3
   },
   "file_extension": ".py",
   "mimetype": "text/x-python",
   "name": "python",
   "nbconvert_exporter": "python",
   "pygments_lexer": "ipython3",
   "version": "3.10.2"
  },
  "orig_nbformat": 4,
  "vscode": {
   "interpreter": {
    "hash": "369f2c481f4da34e4445cda3fffd2e751bd1c4d706f27375911949ba6bb62e1c"
   }
  }
 },
 "nbformat": 4,
 "nbformat_minor": 2
}
